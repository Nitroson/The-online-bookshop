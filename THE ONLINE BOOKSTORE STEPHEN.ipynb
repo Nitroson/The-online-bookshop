{
 "cells": [
  {
   "cell_type": "markdown",
   "id": "655ee50b",
   "metadata": {},
   "source": [
    "##### Problem: The Online Bookstore\n",
    "\n",
    "An online bookstore is looking to optimize its shipping costs. The bookstore offers free\n",
    "shipping for orders that total 50 USD or more. For orders below 50 USD, a flat rate shipping fee of 5 USD\n",
    "is charged. Additionally, for international orders, an extra 10 USD international shipping fee is\n",
    "applied to all orders, regardless of the order total.\n",
    "Write a Python program that calculates the total cost of an order, taking into account the\n",
    "shipping fees based on the following information:\n",
    "\n",
    "\n",
    "● The user should be prompted to enter the order total.\n",
    "\n",
    "● The user should be prompted to specify whether the order is international or not\n",
    "(enter 'Y' for international, 'N' for domestic).\n",
    "\n",
    "● The program should then calculate and display the total cost of the order, including\n",
    "any applicable shipping fees."
   ]
  },
  {
   "cell_type": "markdown",
   "id": "c64aa144",
   "metadata": {},
   "source": [
    "### THE ONLINE BOOKSTORE ALGORITHM"
   ]
  },
  {
   "cell_type": "code",
   "execution_count": 4,
   "id": "84af0996",
   "metadata": {},
   "outputs": [
    {
     "name": "stdout",
     "output_type": "stream",
     "text": [
      "Enter the order total: 40\n",
      "Is the order international? (Y/N): N\n",
      "Total cost of the order: $ 45.0\n"
     ]
    }
   ],
   "source": [
    "def calculate_shipping_fee(order_total, is_international):\n",
    "## Calculate the shipping fee based on the order total and international status\n",
    "    \n",
    "    if is_international.upper() == \"Y\":\n",
    "        shipping_fee = 10\n",
    "    else:\n",
    "        if order_total >= 50:\n",
    "            shipping_fee = 0\n",
    "        else:\n",
    "            shipping_fee = 5\n",
    "    return shipping_fee\n",
    "\n",
    "def calculate_total_cost(order_total, shipping_fee):\n",
    "    \n",
    "# Calculate the total cost of the order by adding the order total and shipping fee\n",
    "    total_cost = order_total + shipping_fee\n",
    "    return total_cost\n",
    "\n",
    "def main():\n",
    "#prompt the user to enter the order total\n",
    "    order_total = float(input(\"Enter the order total: \"))\n",
    "\n",
    "#prompt the user to specify whether the order is international or not\n",
    "\n",
    "    is_international = \"\"\n",
    "    while is_international.upper() not in [\"Y\", \"N\"]:\n",
    "        is_international = input(\"Is the order international? (Y/N): \")\n",
    "        if is_international.upper() not in [\"Y\", \"N\"]:\n",
    "            print(\"Invalid input. Please enter 'Y' for international or 'N' for domestic.\")\n",
    "\n",
    "#check if the order total is zero\n",
    "    if order_total == 0:\n",
    "        print(\"Order total cannot be zero.\")\n",
    "        return\n",
    "\n",
    "\n",
    "#Calculate the shipping fee based on the order total and international\n",
    "    shipping_fee = calculate_shipping_fee(order_total, is_international)\n",
    "    total_cost = calculate_total_cost(order_total, shipping_fee)\n",
    "\n",
    "#Display the total cost of the order\n",
    "    print(\"Total cost of the order: $\", total_cost)\n",
    "\n",
    "if __name__ == \"__main__\":\n",
    "    main()\n"
   ]
  },
  {
   "cell_type": "code",
   "execution_count": null,
   "id": "c047a9e5",
   "metadata": {},
   "outputs": [],
   "source": []
  },
  {
   "cell_type": "code",
   "execution_count": null,
   "id": "648cdfc9",
   "metadata": {},
   "outputs": [],
   "source": []
  },
  {
   "cell_type": "code",
   "execution_count": null,
   "id": "a9c6615a",
   "metadata": {},
   "outputs": [],
   "source": []
  },
  {
   "cell_type": "code",
   "execution_count": null,
   "id": "75f05d5b",
   "metadata": {},
   "outputs": [],
   "source": []
  },
  {
   "cell_type": "markdown",
   "id": "deee3b6a",
   "metadata": {},
   "source": [
    "### The Cocoa Farming Profit Calculator"
   ]
  },
  {
   "cell_type": "code",
   "execution_count": null,
   "id": "b765b085",
   "metadata": {},
   "outputs": [],
   "source": []
  },
  {
   "cell_type": "code",
   "execution_count": null,
   "id": "90083ed9",
   "metadata": {},
   "outputs": [],
   "source": []
  }
 ],
 "metadata": {
  "kernelspec": {
   "display_name": "Python 3",
   "language": "python",
   "name": "python3"
  },
  "language_info": {
   "codemirror_mode": {
    "name": "ipython",
    "version": 3
   },
   "file_extension": ".py",
   "mimetype": "text/x-python",
   "name": "python",
   "nbconvert_exporter": "python",
   "pygments_lexer": "ipython3",
   "version": "3.8.8"
  }
 },
 "nbformat": 4,
 "nbformat_minor": 5
}
